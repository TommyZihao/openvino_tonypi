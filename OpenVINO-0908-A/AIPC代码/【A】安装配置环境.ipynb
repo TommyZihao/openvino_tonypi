{
 "cells": [
  {
   "cell_type": "markdown",
   "id": "39db7e92-a63e-470a-a2d8-187f63357c48",
   "metadata": {},
   "source": [
    "# 安装配置环境\n",
    "\n",
    "同济子豪兄 2024-9-3"
   ]
  },
  {
   "cell_type": "markdown",
   "id": "6a936707-c72f-4547-bad7-28da0b54a266",
   "metadata": {},
   "source": [
    "## 安装配置Python环境\n",
    "\n",
    "安装Miniconda：https://docs.anaconda.com/miniconda\n",
    "\n",
    "```shell\n",
    "conda create -n ov-Qwen python=3.10\n",
    "```"
   ]
  },
  {
   "cell_type": "markdown",
   "id": "d0815330-4ee3-4eb2-971d-37bac94abbec",
   "metadata": {},
   "source": [
    "## pip换源\n",
    "\n",
    "pip config set global.index-url https://repo.huaweicloud.com/repository/pypi/simple\n",
    "\n",
    "pip config set global.index-url https://mirrors.aliyun.com/pypi/simple"
   ]
  },
  {
   "cell_type": "markdown",
   "id": "e809732c-6e02-486d-be65-1dc24bd3e837",
   "metadata": {},
   "source": [
    "## 安装OpenVINO"
   ]
  },
  {
   "cell_type": "code",
   "execution_count": null,
   "id": "c7e89dd9-98ed-4cf5-bdb0-3993b03be804",
   "metadata": {},
   "outputs": [],
   "source": [
    "!pip install openvino-genai==2024.3.0 optimum[openvino]"
   ]
  },
  {
   "cell_type": "markdown",
   "id": "aff7f0e4-7801-4552-806e-96f77f42726b",
   "metadata": {},
   "source": [
    "## 下载工具包"
   ]
  },
  {
   "cell_type": "code",
   "execution_count": null,
   "id": "9fd753e0-831f-4aa7-8340-8e2e122f5c22",
   "metadata": {},
   "outputs": [],
   "source": [
    "!pip install opencv-python jupyter notebook "
   ]
  },
  {
   "cell_type": "markdown",
   "id": "484dfad7-ccfc-4404-abc8-c8c5550cebe9",
   "metadata": {},
   "source": [
    "## 下载Qwen模型文件\n",
    "\n",
    "https://huggingface.co/Qwen/Qwen2-7B-Instruct\n",
    "\n",
    "## 下载OpenVINO转换得到的INT4模型文件\n",
    "\n",
    "https://www.modelscope.cn/models/snake7gun/Qwen2-7B-Instruct-int4-ov"
   ]
  },
  {
   "cell_type": "code",
   "execution_count": null,
   "id": "500c8884-3c5c-45fc-88d7-c40bd9274129",
   "metadata": {},
   "outputs": [],
   "source": []
  }
 ],
 "metadata": {
  "kernelspec": {
   "display_name": "Python 3 (ipykernel)",
   "language": "python",
   "name": "python3"
  },
  "language_info": {
   "codemirror_mode": {
    "name": "ipython",
    "version": 3
   },
   "file_extension": ".py",
   "mimetype": "text/x-python",
   "name": "python",
   "nbconvert_exporter": "python",
   "pygments_lexer": "ipython3",
   "version": "3.10.14"
  }
 },
 "nbformat": 4,
 "nbformat_minor": 5
}
