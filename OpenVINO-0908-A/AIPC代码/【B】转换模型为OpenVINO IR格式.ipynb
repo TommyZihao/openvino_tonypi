{
 "cells": [
  {
   "cell_type": "markdown",
   "id": "c5b1b31a-2f14-4b4a-8658-2955afa63816",
   "metadata": {},
   "source": [
    "# 转换模型为OpenVINO IR格式\n",
    "\n",
    "同济子豪兄 2024-9-3"
   ]
  },
  {
   "cell_type": "markdown",
   "id": "90e8add2-ec6f-414d-9a2e-c37ff6e17bcd",
   "metadata": {},
   "source": [
    "## optimum-cli命令行"
   ]
  },
  {
   "cell_type": "code",
   "execution_count": 1,
   "id": "350a2187-b805-4d4e-b21b-c2ac65fc380e",
   "metadata": {},
   "outputs": [],
   "source": [
    "!optimum-cli export openvino --model \"Qwen/Qwen2-7B-Instruct\" --task text-generation-with-past --weight-format int4 --group-size 128 --ratio 0.8 \"Qwen2-7B-Instruct-int4-ov\""
   ]
  },
  {
   "cell_type": "code",
   "execution_count": null,
   "id": "dba620fc-2af0-4c1e-b56b-c0664633697d",
   "metadata": {},
   "outputs": [],
   "source": []
  }
 ],
 "metadata": {
  "kernelspec": {
   "display_name": "Python 3 (ipykernel)",
   "language": "python",
   "name": "python3"
  },
  "language_info": {
   "codemirror_mode": {
    "name": "ipython",
    "version": 3
   },
   "file_extension": ".py",
   "mimetype": "text/x-python",
   "name": "python",
   "nbconvert_exporter": "python",
   "pygments_lexer": "ipython3",
   "version": "3.10.14"
  }
 },
 "nbformat": 4,
 "nbformat_minor": 5
}
