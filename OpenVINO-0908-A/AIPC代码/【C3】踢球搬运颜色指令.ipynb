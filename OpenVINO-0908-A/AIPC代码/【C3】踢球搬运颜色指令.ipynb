{
 "cells": [
  {
   "cell_type": "markdown",
   "id": "aaa138f1-ffac-462e-a55d-824489983d6f",
   "metadata": {},
   "source": [
    "# 踢球搬运颜色指令\n",
    "\n",
    "同济子豪兄 2024-9-7"
   ]
  },
  {
   "cell_type": "markdown",
   "id": "cbe443ca-348b-46d7-b811-5e8fe9a5a11c",
   "metadata": {},
   "source": [
    "## 导入工具包"
   ]
  },
  {
   "cell_type": "code",
   "execution_count": 1,
   "id": "813008d1-f9f4-4e0c-892a-e128d7f7337f",
   "metadata": {},
   "outputs": [],
   "source": [
    "import openvino_genai as ov_genai"
   ]
  },
  {
   "cell_type": "markdown",
   "id": "d2f4b05d-e198-40d2-8699-3e2fb12c5855",
   "metadata": {},
   "source": [
    "## 载入IR格式的大模型"
   ]
  },
  {
   "cell_type": "code",
   "execution_count": 2,
   "id": "898f8ec1-7d5c-416c-aafe-ed4eea388841",
   "metadata": {},
   "outputs": [],
   "source": [
    "pipe = ov_genai.LLMPipeline(\"Qwen2-7B-Instruct-int4-ov\", \"GPU\")"
   ]
  },
  {
   "cell_type": "markdown",
   "id": "89ea659b-1b06-470f-902f-38c5899d0d05",
   "metadata": {},
   "source": [
    "## 函数：生成RGB颜色"
   ]
  },
  {
   "cell_type": "code",
   "execution_count": 8,
   "id": "693069a9-d862-46f9-be52-fd7dc845ac5a",
   "metadata": {},
   "outputs": [],
   "source": [
    "robot_order_template = '''\n",
    "请你从我接下来的指令里提取出颜色信息，以列表的形式输出\n",
    "\n",
    "【输出要求】\n",
    "直接输出列表，以[开始，以]结尾，不要输出包含```json的开头或结尾，不要输出任何中文\n",
    "列表中的每个元素都是字符串\n",
    "\n",
    "【例如】\n",
    "我说：把红色和蓝色的海绵方块搬到对应位置。你输出：[\"red\", \"blue\"]\n",
    "我说：搬运所有颜色的方块。你输出：[\"red\", \"green\", \"blue\"]\n",
    "我说：踢绿色的球。你输出：[\"green\"]\n",
    "我说：只搬蓝色方块。你输出：[\"blue\"]\n",
    "我说：请搬运红色方块。你输出：[\"red\"]\n",
    "\n",
    "【我现在的指令是】\n",
    "{}\n",
    "'''"
   ]
  },
  {
   "cell_type": "code",
   "execution_count": 9,
   "id": "7b72fb23-2f26-4ca6-91eb-1972dcce4ce0",
   "metadata": {},
   "outputs": [],
   "source": [
    "def agent_color_list(question=\"帮我把红色方块和绿色方块搬运到对应位置\"):\n",
    "    prompt_human = robot_order_template.format(question)\n",
    "    prompt_machine = \"<|im_start|>system\\n<|im_end|>\\n<|im_start|>user\\n{}<|im_end|>\\n<|im_start|>assistant\\n\".format(prompt_human)\n",
    "    result = pipe.generate(prompt_machine)\n",
    "    color = result.texts[0]\n",
    "    return color"
   ]
  },
  {
   "cell_type": "markdown",
   "id": "aa7786fd-d64a-4b5b-82d7-7b0899b3c0d6",
   "metadata": {},
   "source": [
    "## 测试"
   ]
  },
  {
   "cell_type": "code",
   "execution_count": 10,
   "id": "c84f7247-9b6f-48ad-8da4-c15ce5bbc4d4",
   "metadata": {},
   "outputs": [],
   "source": [
    "color_list = agent_color_list()"
   ]
  },
  {
   "cell_type": "code",
   "execution_count": 11,
   "id": "ab78d669-3283-4935-b4e0-24d801c4e063",
   "metadata": {},
   "outputs": [
    {
     "data": {
      "text/plain": [
       "'[\"red\", \"green\"]'"
      ]
     },
     "execution_count": 11,
     "metadata": {},
     "output_type": "execute_result"
    }
   ],
   "source": [
    "color_list"
   ]
  },
  {
   "cell_type": "code",
   "execution_count": 21,
   "id": "eefb56f2-bb7b-47b3-9b93-ed1b924431ee",
   "metadata": {},
   "outputs": [],
   "source": [
    "color_list = agent_color_list('请帮我搬运红色方块')"
   ]
  },
  {
   "cell_type": "code",
   "execution_count": 22,
   "id": "d66315da-4bc7-481c-8df0-dec61b750173",
   "metadata": {},
   "outputs": [
    {
     "data": {
      "text/plain": [
       "'[\"red\"]'"
      ]
     },
     "execution_count": 22,
     "metadata": {},
     "output_type": "execute_result"
    }
   ],
   "source": [
    "color_list"
   ]
  },
  {
   "cell_type": "code",
   "execution_count": 12,
   "id": "b1eebfa6-738b-4bd5-b67a-0124c7ce02eb",
   "metadata": {},
   "outputs": [],
   "source": [
    "color_list = agent_color_list('踢绿色和蓝色的球')"
   ]
  },
  {
   "cell_type": "code",
   "execution_count": 13,
   "id": "b00a16ef-60c0-4b89-94c6-65088f564926",
   "metadata": {},
   "outputs": [
    {
     "data": {
      "text/plain": [
       "'[\"green\", \"blue\"]'"
      ]
     },
     "execution_count": 13,
     "metadata": {},
     "output_type": "execute_result"
    }
   ],
   "source": [
    "color_list"
   ]
  },
  {
   "cell_type": "code",
   "execution_count": 17,
   "id": "508d44a4-5f50-4a3f-8dc5-7269d9bc6237",
   "metadata": {},
   "outputs": [],
   "source": [
    "color_list = agent_color_list('搬运红色和蓝色的海绵方块')"
   ]
  },
  {
   "cell_type": "code",
   "execution_count": 18,
   "id": "a64e3db8-8bc2-412f-aa3a-75f8b5743849",
   "metadata": {},
   "outputs": [
    {
     "data": {
      "text/plain": [
       "'[\"red\", \"blue\"]'"
      ]
     },
     "execution_count": 18,
     "metadata": {},
     "output_type": "execute_result"
    }
   ],
   "source": [
    "color_list"
   ]
  },
  {
   "cell_type": "code",
   "execution_count": 19,
   "id": "cd0f4e37-b3ed-45ab-ae7b-555e4501e1da",
   "metadata": {},
   "outputs": [],
   "source": [
    "color_list = agent_color_list('踢所有颜色的球')"
   ]
  },
  {
   "cell_type": "code",
   "execution_count": 20,
   "id": "2d6ff84c-83c8-4276-a1f7-eb0a0dcbcf9e",
   "metadata": {},
   "outputs": [
    {
     "data": {
      "text/plain": [
       "'[\"red\", \"green\", \"blue\"]'"
      ]
     },
     "execution_count": 20,
     "metadata": {},
     "output_type": "execute_result"
    }
   ],
   "source": [
    "color_list"
   ]
  },
  {
   "cell_type": "code",
   "execution_count": null,
   "id": "1e21ff6f-e5f6-43de-8c35-dfb735e2dc12",
   "metadata": {},
   "outputs": [],
   "source": []
  }
 ],
 "metadata": {
  "kernelspec": {
   "display_name": "Python 3 (ipykernel)",
   "language": "python",
   "name": "python3"
  },
  "language_info": {
   "codemirror_mode": {
    "name": "ipython",
    "version": 3
   },
   "file_extension": ".py",
   "mimetype": "text/x-python",
   "name": "python",
   "nbconvert_exporter": "python",
   "pygments_lexer": "ipython3",
   "version": "3.10.14"
  }
 },
 "nbformat": 4,
 "nbformat_minor": 5
}
