{
 "cells": [
  {
   "cell_type": "markdown",
   "id": "aaa138f1-ffac-462e-a55d-824489983d6f",
   "metadata": {},
   "source": [
    "# 智能体Agent控制机器人\n",
    "\n",
    "同济子豪兄 2024-9-7"
   ]
  },
  {
   "cell_type": "markdown",
   "id": "9ebab31a-1b24-432b-974c-3ed03f2210a6",
   "metadata": {},
   "source": [
    "## 录音+语音识别"
   ]
  },
  {
   "cell_type": "code",
   "execution_count": 4,
   "id": "0ed7144e-91dd-4ec7-88b5-fb17d49d71e2",
   "metadata": {},
   "outputs": [
    {
     "name": "stdout",
     "output_type": "stream",
     "text": [
      "寮�濮� 6 绉掑綍闊�"
     ]
    },
    {
     "name": "stderr",
     "output_type": "stream",
     "text": [
      "Recording WAVE '/home/pi/TonyPi/OpenVINO/temp/speech_record.wav' : Signed 16 bit Little Endian, Rate 16000 Hz, Mono\n"
     ]
    },
    {
     "name": "stdout",
     "output_type": "stream",
     "text": [
      "\n",
      "褰曢煶缁撴潫\n",
      "寮�濮嬭��闊宠瘑鍒�\n",
      "璇�闊宠瘑鍒�缁撴灉锛� 鍏堟嫎涓�韬�鍐嶆尌鎸ユ墜锛屽線鍚庨��涓ゆ�ワ紝鍐嶅線鍓嶈蛋涓夋�ワ紝鐒跺悗鍋氫釜搴嗙�濈殑鍔ㄣ��\n",
      "璇�闊宠瘑鍒�缁撴灉宸插啓鍏�txt鏂囦欢\n"
     ]
    }
   ],
   "source": [
    "!ssh pi@192.168.31.146 \"python TonyPi/OpenVINO/utils_asr.py\""
   ]
  },
  {
   "cell_type": "markdown",
   "id": "82c48c3a-f1fa-4513-b95b-2b81c3175c0f",
   "metadata": {},
   "source": [
    "语音识别结果已写入`~/TonyPi/OpenVINO/temp/speech_recognition.txt`文件"
   ]
  },
  {
   "cell_type": "markdown",
   "id": "53de43d7-f923-4910-939b-ae5f59333635",
   "metadata": {},
   "source": [
    "## 读取语音识别结果"
   ]
  },
  {
   "cell_type": "code",
   "execution_count": 5,
   "id": "112ffb64-5e2e-4951-ab75-7a57f7ae966c",
   "metadata": {},
   "outputs": [],
   "source": [
    "!scp pi@192.168.31.146:~/TonyPi/OpenVINO/temp/speech_recognition.txt temp/speech_recognition.txt "
   ]
  },
  {
   "cell_type": "code",
   "execution_count": 7,
   "id": "04caafcc-6aec-40b7-87ae-ebe0ee398f64",
   "metadata": {},
   "outputs": [],
   "source": [
    "with open('temp/speech_recognition.txt', 'r', encoding='utf-8') as f:\n",
    "    speech_result = f.read()"
   ]
  },
  {
   "cell_type": "code",
   "execution_count": 8,
   "id": "d2eb001c-ad13-4083-b34b-d24364526f7c",
   "metadata": {},
   "outputs": [
    {
     "data": {
      "text/plain": [
       "'先拘个躬再挥挥手，往后退两步，再往前走三步，然后做个庆祝的动。'"
      ]
     },
     "execution_count": 8,
     "metadata": {},
     "output_type": "execute_result"
    }
   ],
   "source": [
    "speech_result"
   ]
  },
  {
   "cell_type": "markdown",
   "id": "cbe443ca-348b-46d7-b811-5e8fe9a5a11c",
   "metadata": {},
   "source": [
    "## 导入工具包"
   ]
  },
  {
   "cell_type": "code",
   "execution_count": 9,
   "id": "813008d1-f9f4-4e0c-892a-e128d7f7337f",
   "metadata": {},
   "outputs": [],
   "source": [
    "import openvino_genai as ov_genai"
   ]
  },
  {
   "cell_type": "markdown",
   "id": "d2f4b05d-e198-40d2-8699-3e2fb12c5855",
   "metadata": {},
   "source": [
    "## 载入IR格式的大模型"
   ]
  },
  {
   "cell_type": "code",
   "execution_count": 10,
   "id": "898f8ec1-7d5c-416c-aafe-ed4eea388841",
   "metadata": {},
   "outputs": [],
   "source": [
    "pipe = ov_genai.LLMPipeline(\"Qwen2-7B-Instruct-int4-ov\", \"GPU\")"
   ]
  },
  {
   "cell_type": "markdown",
   "id": "89ea659b-1b06-470f-902f-38c5899d0d05",
   "metadata": {},
   "source": [
    "## 函数：智能体Agent编排动作"
   ]
  },
  {
   "cell_type": "code",
   "execution_count": 11,
   "id": "693069a9-d862-46f9-be52-fd7dc845ac5a",
   "metadata": {},
   "outputs": [],
   "source": [
    "robot_order_template = '''\n",
    "你是我的机器人，请你根据我的指令，以列表形式输出接下来要运行的对应函数和你给我的回复\n",
    "你只需要回答一个列表即可，不要回答任何中文\n",
    "【以下是所有动作函数】\n",
    "站立：stand()\n",
    "前进一步：move_forward()\n",
    "后退一步：move_back()\n",
    "向左平移移动一步：move_left()\n",
    "向右平移移动一步：move_right()\n",
    "向左旋转移动：turn_left()\n",
    "向右旋转移动：turn_right()\n",
    "鞠躬：bow()\n",
    "挥手打招呼：wave()\n",
    "扭腰：twist()\n",
    "捶胸庆祝：celebrate()\n",
    "下蹲：squat()\n",
    "踢右脚：right_shot()\n",
    "踢左脚：left_shot()\n",
    "仰卧起坐：sit_ups()\n",
    "巡线模式：athletics()\n",
    "播放音乐并跳舞：rap()\n",
    "\n",
    "【以下是一些具体的例子】\n",
    "我的指令：请你先鞠个躬，然后挥挥手。你回复：['bow()', 'wave()']\n",
    "我的指令：先前进，再后退，向左转一点，再向右平移。你回复：['move_forward()', 'move_back()', 'turn_left()', 'move_right()']\n",
    "我的指令：先蹲下，再站起来，最后做个庆祝的动作。你回复：['squat()', 'stand()', 'celebrate()']\n",
    "我的指令：向前走两步，向后退三步。你回复：['move_forward()', 'move_forward()', 'move_back()', 'move_back()', 'move_back()']\n",
    "\n",
    "【我现在的指令是】\n",
    "{}\n",
    "'''"
   ]
  },
  {
   "cell_type": "code",
   "execution_count": 12,
   "id": "7b72fb23-2f26-4ca6-91eb-1972dcce4ce0",
   "metadata": {},
   "outputs": [],
   "source": [
    "def agent_action_plan(question=\"先鞠个躬，再打个招呼，蹲下，最后站起来\"):\n",
    "    prompt_human = robot_order_template.format(question)\n",
    "    prompt_machine = \"<|im_start|>system\\n<|im_end|>\\n<|im_start|>user\\n{}<|im_end|>\\n<|im_start|>assistant\\n\".format(prompt_human)\n",
    "    result = pipe.generate(prompt_machine)\n",
    "    agent_plan_str = result.texts[0]\n",
    "\n",
    "    # 写入txt文件\n",
    "    agent_plan_txt = 'temp/agent_plan.txt'\n",
    "    with open(agent_plan_txt, 'w') as f:\n",
    "        f.write(agent_plan_str)\n",
    "        # print('动作编排已写入txt文件')\n",
    "\n",
    "    agent_plan_list = eval(agent_plan_str)\n",
    "    return agent_plan_list"
   ]
  },
  {
   "cell_type": "markdown",
   "id": "832b1ef6-ffe2-4376-840e-c77693514fef",
   "metadata": {},
   "source": [
    "## 测试"
   ]
  },
  {
   "cell_type": "code",
   "execution_count": 17,
   "id": "c84f7247-9b6f-48ad-8da4-c15ce5bbc4d4",
   "metadata": {},
   "outputs": [],
   "source": [
    "agent_plan_list = agent_action_plan()"
   ]
  },
  {
   "cell_type": "code",
   "execution_count": 18,
   "id": "ab78d669-3283-4935-b4e0-24d801c4e063",
   "metadata": {},
   "outputs": [
    {
     "data": {
      "text/plain": [
       "['bow()', 'wave()', 'squat()', 'stand()']"
      ]
     },
     "execution_count": 18,
     "metadata": {},
     "output_type": "execute_result"
    }
   ],
   "source": [
    "agent_plan_list"
   ]
  },
  {
   "cell_type": "code",
   "execution_count": 19,
   "id": "a3317772-b53b-4b93-86e4-eedc25d0e6da",
   "metadata": {},
   "outputs": [],
   "source": [
    "agent_plan_list = agent_action_plan('请你先向前两步，再向后退一步，向左微微转动，最后做个健身的动作')"
   ]
  },
  {
   "cell_type": "code",
   "execution_count": 20,
   "id": "9d9c28e1-ab03-4202-b054-1d6f18b8ea69",
   "metadata": {},
   "outputs": [
    {
     "data": {
      "text/plain": [
       "['move_forward()', 'move_forward()', 'move_back()', 'turn_left()', 'sit_ups()']"
      ]
     },
     "execution_count": 20,
     "metadata": {},
     "output_type": "execute_result"
    }
   ],
   "source": [
    "agent_plan_list"
   ]
  },
  {
   "cell_type": "code",
   "execution_count": 8,
   "id": "7369f083-bb5e-4567-8ca4-b2767e372665",
   "metadata": {},
   "outputs": [],
   "source": [
    "agent_plan_list = agent_action_plan('先鞠个躬，然后打个招呼，向前走三步，再向后退两步，向左微微转动，最后做个庆祝的动作')"
   ]
  },
  {
   "cell_type": "code",
   "execution_count": 9,
   "id": "9db79c6b-eec2-45b2-9e58-0861dd16ae79",
   "metadata": {},
   "outputs": [
    {
     "data": {
      "text/plain": [
       "['bow()',\n",
       " 'wave()',\n",
       " 'move_forward()',\n",
       " 'move_forward()',\n",
       " 'move_forward()',\n",
       " 'move_back()',\n",
       " 'move_back()',\n",
       " 'turn_left()',\n",
       " 'celebrate()']"
      ]
     },
     "execution_count": 9,
     "metadata": {},
     "output_type": "execute_result"
    }
   ],
   "source": [
    "agent_plan_list"
   ]
  },
  {
   "cell_type": "markdown",
   "id": "fa433033-989e-4fa3-9d70-3ee1cf9f7314",
   "metadata": {},
   "source": [
    "## 传入语音识别结果，编排生成动作列表"
   ]
  },
  {
   "cell_type": "code",
   "execution_count": 13,
   "id": "0efde993-c102-4110-abbf-70bb573f24f6",
   "metadata": {},
   "outputs": [],
   "source": [
    "agent_plan_list = agent_action_plan(speech_result)"
   ]
  },
  {
   "cell_type": "code",
   "execution_count": 14,
   "id": "1ad12e9f-1f32-429b-ace7-9d1de70557b8",
   "metadata": {},
   "outputs": [
    {
     "data": {
      "text/plain": [
       "['bow()',\n",
       " 'wave()',\n",
       " 'move_back()',\n",
       " 'move_back()',\n",
       " 'move_forward()',\n",
       " 'move_forward()',\n",
       " 'move_forward()',\n",
       " 'celebrate()']"
      ]
     },
     "execution_count": 14,
     "metadata": {},
     "output_type": "execute_result"
    }
   ],
   "source": [
    "agent_plan_list"
   ]
  },
  {
   "cell_type": "markdown",
   "id": "d2fda51a-6614-4865-a0fd-9bb5b7ff600a",
   "metadata": {},
   "source": [
    "## 把动作编排txt文件传到开发板"
   ]
  },
  {
   "cell_type": "code",
   "execution_count": 15,
   "id": "8dff099f-73c2-4849-913d-608ca165c454",
   "metadata": {},
   "outputs": [],
   "source": [
    "!scp temp/agent_plan.txt pi@192.168.31.146:~/TonyPi/OpenVINO/temp/"
   ]
  },
  {
   "cell_type": "markdown",
   "id": "3e39bab5-67b6-4c63-8524-099a9dd62a67",
   "metadata": {},
   "source": [
    "## AIPC远程触发机器人运动"
   ]
  },
  {
   "cell_type": "code",
   "execution_count": 1,
   "id": "d3f48632-3bac-4d9b-bc67-96e7245568a5",
   "metadata": {},
   "outputs": [
    {
     "name": "stdout",
     "output_type": "stream",
     "text": [
      "寮�濮嬩緷娆℃墽琛屽姩浣�\n",
      "杞藉叆鍔ㄤ綔鍒楄〃 ['bow()', 'wave()', 'move_back()', 'move_back()', 'move_forward()', 'move_forward()', 'move_forward()', 'celebrate()']\n",
      "寮�濮嬪姩浣� bow()\n",
      "寮�濮嬪姩浣� wave()\n",
      "寮�濮嬪姩浣� move_back()\n",
      "寮�濮嬪姩浣� move_back()\n",
      "寮�濮嬪姩浣� move_forward()\n",
      "寮�濮嬪姩浣� move_forward()\n",
      "寮�濮嬪姩浣� move_forward()\n",
      "寮�濮嬪姩浣� celebrate()\n"
     ]
    }
   ],
   "source": [
    "!ssh pi@192.168.31.146 \"python ~/TonyPi/OpenVINO/utils_robot.py\""
   ]
  },
  {
   "cell_type": "code",
   "execution_count": null,
   "id": "ed967b5f-fafe-48dc-adaf-fd0f0a9e585c",
   "metadata": {},
   "outputs": [],
   "source": []
  }
 ],
 "metadata": {
  "kernelspec": {
   "display_name": "Python 3 (ipykernel)",
   "language": "python",
   "name": "python3"
  },
  "language_info": {
   "codemirror_mode": {
    "name": "ipython",
    "version": 3
   },
   "file_extension": ".py",
   "mimetype": "text/x-python",
   "name": "python",
   "nbconvert_exporter": "python",
   "pygments_lexer": "ipython3",
   "version": "3.10.14"
  }
 },
 "nbformat": 4,
 "nbformat_minor": 5
}
