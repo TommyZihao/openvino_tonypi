{
 "cells": [
  {
   "cell_type": "markdown",
   "id": "39db7e92-a63e-470a-a2d8-187f63357c48",
   "metadata": {},
   "source": [
    "# 安装配置环境\n",
    "\n",
    "同济子豪兄 2024-9-3"
   ]
  },
  {
   "cell_type": "markdown",
   "id": "6a936707-c72f-4547-bad7-28da0b54a266",
   "metadata": {},
   "source": [
    "## 安装配置Python环境\n",
    "\n",
    "安装Miniconda：https://docs.anaconda.com/miniconda\n",
    "\n",
    "创建虚拟环境\n",
    "```shell\n",
    "conda create -n ov-Qwen python=3.10\n",
    "```"
   ]
  },
  {
   "cell_type": "markdown",
   "id": "d0815330-4ee3-4eb2-971d-37bac94abbec",
   "metadata": {},
   "source": [
    "## pip换国内源\n",
    "\n",
    "阿里云开源软件镜像站\n",
    "\n",
    "```shell\n",
    "pip config set global.index-url https://mirrors.aliyun.com/pypi/simple\n",
    "```"
   ]
  },
  {
   "cell_type": "markdown",
   "id": "e809732c-6e02-486d-be65-1dc24bd3e837",
   "metadata": {},
   "source": [
    "## 安装OpenVINO和其它工具包\n",
    "\n",
    "```shell\n",
    "pip install openvino-genai==2024.3.0 optimum[openvino]\n",
    "\n",
    "pip install opencv-python jupyter notebook openai appbuilder-sdk qianfan\n",
    "```"
   ]
  },
  {
   "cell_type": "code",
   "execution_count": null,
   "id": "1ffd6c71-659e-422c-9344-5ccc684c789e",
   "metadata": {},
   "outputs": [],
   "source": []
  }
 ],
 "metadata": {
  "kernelspec": {
   "display_name": "Python 3 (ipykernel)",
   "language": "python",
   "name": "python3"
  },
  "language_info": {
   "codemirror_mode": {
    "name": "ipython",
    "version": 3
   },
   "file_extension": ".py",
   "mimetype": "text/x-python",
   "name": "python",
   "nbconvert_exporter": "python",
   "pygments_lexer": "ipython3",
   "version": "3.10.14"
  }
 },
 "nbformat": 4,
 "nbformat_minor": 5
}
