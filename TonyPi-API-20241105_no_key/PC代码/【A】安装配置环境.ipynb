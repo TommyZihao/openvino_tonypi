{
 "cells": [
  {
   "cell_type": "markdown",
   "id": "39db7e92-a63e-470a-a2d8-187f63357c48",
   "metadata": {},
   "source": [
    "# 安装配置环境\n",
    "\n",
    "同济子豪兄 2024-11-05"
   ]
  },
  {
   "cell_type": "markdown",
   "id": "d0815330-4ee3-4eb2-971d-37bac94abbec",
   "metadata": {},
   "source": [
    "## pip换国内源\n",
    "\n",
    "华为云开源软件镜像站\n",
    "\n",
    "```shell\n",
    "pip config set global.index-url https://repo.huaweicloud.com/repository/pypi/simple/\n",
    "```"
   ]
  },
  {
   "cell_type": "markdown",
   "id": "e809732c-6e02-486d-be65-1dc24bd3e837",
   "metadata": {},
   "source": [
    "## 安装其它工具包\n",
    "\n",
    "```shell\n",
    "pip install opencv-python jupyter notebook openai appbuilder-sdk qianfan cozepy boto3 anthropic\n",
    "```"
   ]
  },
  {
   "cell_type": "code",
   "execution_count": null,
   "id": "1ffd6c71-659e-422c-9344-5ccc684c789e",
   "metadata": {},
   "outputs": [],
   "source": []
  }
 ],
 "metadata": {
  "kernelspec": {
   "display_name": "Python 3 (ipykernel)",
   "language": "python",
   "name": "python3"
  },
  "language_info": {
   "codemirror_mode": {
    "name": "ipython",
    "version": 3
   },
   "file_extension": ".py",
   "mimetype": "text/x-python",
   "name": "python",
   "nbconvert_exporter": "python",
   "pygments_lexer": "ipython3",
   "version": "3.12.3"
  }
 },
 "nbformat": 4,
 "nbformat_minor": 5
}
